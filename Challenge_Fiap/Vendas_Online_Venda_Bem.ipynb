{
 "cells": [
  {
   "cell_type": "markdown",
   "metadata": {
    "id": "JRNL23lf3NXP"
   },
   "source": [
    "### Séries Temporais - Forecast\n",
    "\n",
    "> Checkpoint FIAP 2021\n",
    "\n",
    "Desafio:\n",
    "\n",
    "Foi fornecido para você mais novo cientista de dados da empresa de vendas online \"Venda Bem\" uma base de dados com o historico de vendas do ultimo ano da empresa, e seu desafio é realizar uma previsao por meio de algum modelo de serie temporal para todo o proximo mes de vendas, salvar o resultado obtido em um csv e encaminhar ao professor. \n",
    "\n",
    "Boa Sorte!!\n",
    "\n",
    "<br>\n",
    "<hr>\n",
    "Dados fornecidos:\n",
    "\n",
    "> Data: Data do dia da venda\n",
    "\n",
    "> X: ID da linha\n",
    "\n",
    "> mes:\tMes referencia\n",
    " \n",
    "> weekday: Dia da semana\n",
    "\n",
    "> margem: Margem de lucro do dia\n",
    "\n",
    "> venda: Valor total de venda no dia\n",
    "\n",
    "> desconto:\tDesconto total do dia\n",
    "\n",
    "> outdesc: Outlier de desconto\n",
    "\n",
    "> outmg: Outlier de margem de lucro\n",
    "\n",
    "<br>\n",
    "<hr>"
   ]
  },
  {
   "cell_type": "code",
   "execution_count": null,
   "metadata": {
    "colab": {
     "base_uri": "https://localhost:8080/"
    },
    "executionInfo": {
     "elapsed": 3440,
     "status": "ok",
     "timestamp": 1620424673460,
     "user": {
      "displayName": "Felipe Oliveira",
      "photoUrl": "https://lh3.googleusercontent.com/a-/AOh14GjO213TtE8UvJNzWX9dBwLMGlL8qyGDW1E6XdfZ=s64",
      "userId": "17712141380330331922"
     },
     "user_tz": 180
    },
    "id": "OkVMOF4c0hnn",
    "outputId": "b3425bf9-b3f7-4792-b39a-6ab04dc37d9f"
   },
   "outputs": [
    {
     "name": "stdout",
     "output_type": "stream",
     "text": [
      "Requirement already satisfied: prophet in /usr/local/lib/python3.7/dist-packages (1.0)\n",
      "Requirement already satisfied: cmdstanpy==0.9.68 in /usr/local/lib/python3.7/dist-packages (from prophet) (0.9.68)\n",
      "Requirement already satisfied: pandas>=1.0.4 in /usr/local/lib/python3.7/dist-packages (from prophet) (1.1.5)\n",
      "Requirement already satisfied: python-dateutil>=2.8.0 in /usr/local/lib/python3.7/dist-packages (from prophet) (2.8.1)\n",
      "Requirement already satisfied: Cython>=0.22 in /usr/local/lib/python3.7/dist-packages (from prophet) (0.29.22)\n",
      "Requirement already satisfied: setuptools-git>=1.2 in /usr/local/lib/python3.7/dist-packages (from prophet) (1.2)\n",
      "Requirement already satisfied: tqdm>=4.36.1 in /usr/local/lib/python3.7/dist-packages (from prophet) (4.41.1)\n",
      "Requirement already satisfied: pystan>=2.14 in /usr/local/lib/python3.7/dist-packages (from prophet) (2.19.1.1)\n",
      "Requirement already satisfied: numpy>=1.15.4 in /usr/local/lib/python3.7/dist-packages (from prophet) (1.19.5)\n",
      "Requirement already satisfied: LunarCalendar>=0.0.9 in /usr/local/lib/python3.7/dist-packages (from prophet) (0.0.9)\n",
      "Requirement already satisfied: matplotlib>=2.0.0 in /usr/local/lib/python3.7/dist-packages (from prophet) (3.2.2)\n",
      "Requirement already satisfied: convertdate>=2.1.2 in /usr/local/lib/python3.7/dist-packages (from prophet) (2.3.2)\n",
      "Requirement already satisfied: holidays>=0.10.2 in /usr/local/lib/python3.7/dist-packages (from prophet) (0.10.5.2)\n",
      "Requirement already satisfied: ujson in /usr/local/lib/python3.7/dist-packages (from cmdstanpy==0.9.68->prophet) (4.0.2)\n",
      "Requirement already satisfied: pytz>=2017.2 in /usr/local/lib/python3.7/dist-packages (from pandas>=1.0.4->prophet) (2018.9)\n",
      "Requirement already satisfied: six>=1.5 in /usr/local/lib/python3.7/dist-packages (from python-dateutil>=2.8.0->prophet) (1.15.0)\n",
      "Requirement already satisfied: ephem>=3.7.5.3 in /usr/local/lib/python3.7/dist-packages (from LunarCalendar>=0.0.9->prophet) (3.7.7.1)\n",
      "Requirement already satisfied: kiwisolver>=1.0.1 in /usr/local/lib/python3.7/dist-packages (from matplotlib>=2.0.0->prophet) (1.3.1)\n",
      "Requirement already satisfied: pyparsing!=2.0.4,!=2.1.2,!=2.1.6,>=2.0.1 in /usr/local/lib/python3.7/dist-packages (from matplotlib>=2.0.0->prophet) (2.4.7)\n",
      "Requirement already satisfied: cycler>=0.10 in /usr/local/lib/python3.7/dist-packages (from matplotlib>=2.0.0->prophet) (0.10.0)\n",
      "Requirement already satisfied: pymeeus<=1,>=0.3.13 in /usr/local/lib/python3.7/dist-packages (from convertdate>=2.1.2->prophet) (0.5.11)\n",
      "Requirement already satisfied: korean-lunar-calendar in /usr/local/lib/python3.7/dist-packages (from holidays>=0.10.2->prophet) (0.2.1)\n",
      "Requirement already satisfied: hijri-converter in /usr/local/lib/python3.7/dist-packages (from holidays>=0.10.2->prophet) (2.1.1)\n",
      "fatal: destination path 'FIAP' already exists and is not an empty directory.\n"
     ]
    }
   ],
   "source": [
    "#!pip install prophet==1.0\n",
    "!pip install prophet\n",
    "!git clone https://github.com/diogenesjusto/FIAP.git"
   ]
  },
  {
   "cell_type": "code",
   "execution_count": null,
   "metadata": {
    "id": "q7AoLWfs3LLt"
   },
   "outputs": [],
   "source": [
    "import numpy as np \n",
    "import pandas as pd\n",
    "import matplotlib.pyplot as plt \n",
    "import seaborn as sns\n",
    "import pickle\n",
    "\n",
    "import warnings\n",
    "warnings.filterwarnings(\"ignore\")\n",
    "\n",
    "from fbprophet import Prophet\n",
    "from sklearn.preprocessing import StandardScaler, MinMaxScaler\n",
    "from sklearn.metrics import mean_absolute_error, mean_squared_error, r2_score "
   ]
  },
  {
   "cell_type": "code",
   "execution_count": null,
   "metadata": {
    "colab": {
     "base_uri": "https://localhost:8080/",
     "height": 225
    },
    "executionInfo": {
     "elapsed": 609,
     "status": "ok",
     "timestamp": 1620430136730,
     "user": {
      "displayName": "Felipe Oliveira",
      "photoUrl": "https://lh3.googleusercontent.com/a-/AOh14GjO213TtE8UvJNzWX9dBwLMGlL8qyGDW1E6XdfZ=s64",
      "userId": "17712141380330331922"
     },
     "user_tz": 180
    },
    "id": "p28_X9mY3e8P",
    "outputId": "9fa4e2a1-8440-4048-8655-c31364fe867e"
   },
   "outputs": [
    {
     "data": {
      "text/html": [
       "<div>\n",
       "<style scoped>\n",
       "    .dataframe tbody tr th:only-of-type {\n",
       "        vertical-align: middle;\n",
       "    }\n",
       "\n",
       "    .dataframe tbody tr th {\n",
       "        vertical-align: top;\n",
       "    }\n",
       "\n",
       "    .dataframe thead th {\n",
       "        text-align: right;\n",
       "    }\n",
       "</style>\n",
       "<table border=\"1\" class=\"dataframe\">\n",
       "  <thead>\n",
       "    <tr style=\"text-align: right;\">\n",
       "      <th></th>\n",
       "      <th>X</th>\n",
       "      <th>mes</th>\n",
       "      <th>weekday</th>\n",
       "      <th>margem</th>\n",
       "      <th>venda</th>\n",
       "      <th>desconto</th>\n",
       "      <th>outdesc</th>\n",
       "      <th>outmg</th>\n",
       "    </tr>\n",
       "    <tr>\n",
       "      <th>date</th>\n",
       "      <th></th>\n",
       "      <th></th>\n",
       "      <th></th>\n",
       "      <th></th>\n",
       "      <th></th>\n",
       "      <th></th>\n",
       "      <th></th>\n",
       "      <th></th>\n",
       "    </tr>\n",
       "  </thead>\n",
       "  <tbody>\n",
       "    <tr>\n",
       "      <th>2014-08-01</th>\n",
       "      <td>1</td>\n",
       "      <td>agosto</td>\n",
       "      <td>sexta-feira</td>\n",
       "      <td>0.406111</td>\n",
       "      <td>110042.460</td>\n",
       "      <td>9190.907534</td>\n",
       "      <td>0</td>\n",
       "      <td>0</td>\n",
       "    </tr>\n",
       "    <tr>\n",
       "      <th>2014-08-02</th>\n",
       "      <td>2</td>\n",
       "      <td>agosto</td>\n",
       "      <td>sabado</td>\n",
       "      <td>0.416022</td>\n",
       "      <td>58377.320</td>\n",
       "      <td>5713.043012</td>\n",
       "      <td>0</td>\n",
       "      <td>0</td>\n",
       "    </tr>\n",
       "    <tr>\n",
       "      <th>2014-08-03</th>\n",
       "      <td>3</td>\n",
       "      <td>agosto</td>\n",
       "      <td>domingo</td>\n",
       "      <td>0.431993</td>\n",
       "      <td>64635.390</td>\n",
       "      <td>8621.708915</td>\n",
       "      <td>0</td>\n",
       "      <td>0</td>\n",
       "    </tr>\n",
       "    <tr>\n",
       "      <th>2014-08-04</th>\n",
       "      <td>4</td>\n",
       "      <td>agosto</td>\n",
       "      <td>segunda-feira</td>\n",
       "      <td>0.409216</td>\n",
       "      <td>140417.321</td>\n",
       "      <td>18312.965640</td>\n",
       "      <td>0</td>\n",
       "      <td>0</td>\n",
       "    </tr>\n",
       "    <tr>\n",
       "      <th>2014-08-05</th>\n",
       "      <td>5</td>\n",
       "      <td>agosto</td>\n",
       "      <td>terca-feira</td>\n",
       "      <td>0.449648</td>\n",
       "      <td>149700.286</td>\n",
       "      <td>19942.741300</td>\n",
       "      <td>0</td>\n",
       "      <td>0</td>\n",
       "    </tr>\n",
       "  </tbody>\n",
       "</table>\n",
       "</div>"
      ],
      "text/plain": [
       "            X     mes        weekday  ...      desconto  outdesc  outmg\n",
       "date                                  ...                              \n",
       "2014-08-01  1  agosto    sexta-feira  ...   9190.907534        0      0\n",
       "2014-08-02  2  agosto         sabado  ...   5713.043012        0      0\n",
       "2014-08-03  3  agosto        domingo  ...   8621.708915        0      0\n",
       "2014-08-04  4  agosto  segunda-feira  ...  18312.965640        0      0\n",
       "2014-08-05  5  agosto    terca-feira  ...  19942.741300        0      0\n",
       "\n",
       "[5 rows x 8 columns]"
      ]
     },
     "execution_count": 354,
     "metadata": {
      "tags": []
     },
     "output_type": "execute_result"
    }
   ],
   "source": [
    "# leitura dos dados \n",
    "df = pd.read_csv(\"/content/FIAP/Graduação/2021/S1/1_Checkpoint/baba.csv\",  index_col='date', parse_dates=True)\n",
    "df.drop([\"Unnamed: 0\"], axis=1, inplace=True)\n",
    "df.head()"
   ]
  },
  {
   "cell_type": "code",
   "execution_count": null,
   "metadata": {
    "colab": {
     "base_uri": "https://localhost:8080/"
    },
    "executionInfo": {
     "elapsed": 696,
     "status": "ok",
     "timestamp": 1620429919523,
     "user": {
      "displayName": "Felipe Oliveira",
      "photoUrl": "https://lh3.googleusercontent.com/a-/AOh14GjO213TtE8UvJNzWX9dBwLMGlL8qyGDW1E6XdfZ=s64",
      "userId": "17712141380330331922"
     },
     "user_tz": 180
    },
    "id": "D8K4gR7z5T6o",
    "outputId": "87a3fe59-9280-4bdc-d1f0-c0fe4dc0a736"
   },
   "outputs": [
    {
     "data": {
      "text/plain": [
       "(396, 8)"
      ]
     },
     "execution_count": 335,
     "metadata": {
      "tags": []
     },
     "output_type": "execute_result"
    }
   ],
   "source": [
    "# colunas e linhas \n",
    "df.shape"
   ]
  },
  {
   "cell_type": "code",
   "execution_count": null,
   "metadata": {
    "colab": {
     "base_uri": "https://localhost:8080/",
     "height": 225
    },
    "executionInfo": {
     "elapsed": 565,
     "status": "ok",
     "timestamp": 1620428749475,
     "user": {
      "displayName": "Felipe Oliveira",
      "photoUrl": "https://lh3.googleusercontent.com/a-/AOh14GjO213TtE8UvJNzWX9dBwLMGlL8qyGDW1E6XdfZ=s64",
      "userId": "17712141380330331922"
     },
     "user_tz": 180
    },
    "id": "DX7Sidqh4r0J",
    "outputId": "59620a94-b8a3-45bd-c8d3-e3d7c4acd79a"
   },
   "outputs": [
    {
     "data": {
      "text/html": [
       "<div>\n",
       "<style scoped>\n",
       "    .dataframe tbody tr th:only-of-type {\n",
       "        vertical-align: middle;\n",
       "    }\n",
       "\n",
       "    .dataframe tbody tr th {\n",
       "        vertical-align: top;\n",
       "    }\n",
       "\n",
       "    .dataframe thead th {\n",
       "        text-align: right;\n",
       "    }\n",
       "</style>\n",
       "<table border=\"1\" class=\"dataframe\">\n",
       "  <thead>\n",
       "    <tr style=\"text-align: right;\">\n",
       "      <th></th>\n",
       "      <th>X</th>\n",
       "      <th>mes</th>\n",
       "      <th>weekday</th>\n",
       "      <th>margem</th>\n",
       "      <th>venda</th>\n",
       "      <th>desconto</th>\n",
       "      <th>outdesc</th>\n",
       "      <th>outmg</th>\n",
       "    </tr>\n",
       "    <tr>\n",
       "      <th>date</th>\n",
       "      <th></th>\n",
       "      <th></th>\n",
       "      <th></th>\n",
       "      <th></th>\n",
       "      <th></th>\n",
       "      <th></th>\n",
       "      <th></th>\n",
       "      <th></th>\n",
       "    </tr>\n",
       "  </thead>\n",
       "  <tbody>\n",
       "    <tr>\n",
       "      <th>2014-08-01</th>\n",
       "      <td>1</td>\n",
       "      <td>agosto</td>\n",
       "      <td>sexta-feira</td>\n",
       "      <td>0.406111</td>\n",
       "      <td>110042.460</td>\n",
       "      <td>9190.907534</td>\n",
       "      <td>0</td>\n",
       "      <td>0</td>\n",
       "    </tr>\n",
       "    <tr>\n",
       "      <th>2014-08-02</th>\n",
       "      <td>2</td>\n",
       "      <td>agosto</td>\n",
       "      <td>sabado</td>\n",
       "      <td>0.416022</td>\n",
       "      <td>58377.320</td>\n",
       "      <td>5713.043012</td>\n",
       "      <td>0</td>\n",
       "      <td>0</td>\n",
       "    </tr>\n",
       "    <tr>\n",
       "      <th>2014-08-03</th>\n",
       "      <td>3</td>\n",
       "      <td>agosto</td>\n",
       "      <td>domingo</td>\n",
       "      <td>0.431993</td>\n",
       "      <td>64635.390</td>\n",
       "      <td>8621.708915</td>\n",
       "      <td>0</td>\n",
       "      <td>0</td>\n",
       "    </tr>\n",
       "    <tr>\n",
       "      <th>2014-08-04</th>\n",
       "      <td>4</td>\n",
       "      <td>agosto</td>\n",
       "      <td>segunda-feira</td>\n",
       "      <td>0.409216</td>\n",
       "      <td>140417.321</td>\n",
       "      <td>18312.965640</td>\n",
       "      <td>0</td>\n",
       "      <td>0</td>\n",
       "    </tr>\n",
       "    <tr>\n",
       "      <th>2014-08-05</th>\n",
       "      <td>5</td>\n",
       "      <td>agosto</td>\n",
       "      <td>terca-feira</td>\n",
       "      <td>0.449648</td>\n",
       "      <td>149700.286</td>\n",
       "      <td>19942.741300</td>\n",
       "      <td>0</td>\n",
       "      <td>0</td>\n",
       "    </tr>\n",
       "  </tbody>\n",
       "</table>\n",
       "</div>"
      ],
      "text/plain": [
       "            X     mes        weekday  ...      desconto  outdesc  outmg\n",
       "date                                  ...                              \n",
       "2014-08-01  1  agosto    sexta-feira  ...   9190.907534        0      0\n",
       "2014-08-02  2  agosto         sabado  ...   5713.043012        0      0\n",
       "2014-08-03  3  agosto        domingo  ...   8621.708915        0      0\n",
       "2014-08-04  4  agosto  segunda-feira  ...  18312.965640        0      0\n",
       "2014-08-05  5  agosto    terca-feira  ...  19942.741300        0      0\n",
       "\n",
       "[5 rows x 8 columns]"
      ]
     },
     "execution_count": 215,
     "metadata": {
      "tags": []
     },
     "output_type": "execute_result"
    }
   ],
   "source": [
    "df.head()"
   ]
  },
  {
   "cell_type": "markdown",
   "metadata": {
    "id": "dboM-hnk4V0n"
   },
   "source": [
    "<hr>\n",
    "\n",
    "\n",
    "### Modelo teste \n",
    "\n",
    "\n",
    "teste com modelo se séries temporais da biblioteca facebook prophet, testamos o modelo com apenas a váriavel de data e seu target (univariada)\n",
    "\n",
    "\n",
    "<br>"
   ]
  },
  {
   "cell_type": "code",
   "execution_count": null,
   "metadata": {
    "id": "BZPiBUKgJgwh"
   },
   "outputs": [],
   "source": [
    "# resetar linhas\n",
    "df_prophet = df.reset_index()"
   ]
  },
  {
   "cell_type": "code",
   "execution_count": null,
   "metadata": {
    "id": "iTpnNtgq4cKf"
   },
   "outputs": [],
   "source": [
    "# excluir nulos \n",
    "df_prophet.dropna(inplace=True)"
   ]
  },
  {
   "cell_type": "code",
   "execution_count": null,
   "metadata": {
    "id": "o8FPwqMA0qO-"
   },
   "outputs": [],
   "source": [
    "# processamento do dataframe\n",
    "df_prophet = df_prophet.loc[0:364]\n",
    "df_prophet = df_prophet[[\"date\", \"venda\"]]\n",
    "df_prophet.rename(columns={\"date\":\"ds\", \"venda\":\"y\"}, inplace=True)\n",
    "df_prophet[\"ds\"] = pd.to_datetime(df_prophet[\"ds\"])\n",
    "df_prophet[\"y\"] = np.log(df_prophet['y'])"
   ]
  },
  {
   "cell_type": "code",
   "execution_count": null,
   "metadata": {
    "id": "kNBLy4isFJOl"
   },
   "outputs": [],
   "source": [
    "# selecionando colunas\n",
    "df_prophet.columns = [\"ds\", \"y\"]"
   ]
  },
  {
   "cell_type": "code",
   "execution_count": null,
   "metadata": {
    "colab": {
     "base_uri": "https://localhost:8080/"
    },
    "executionInfo": {
     "elapsed": 615,
     "status": "ok",
     "timestamp": 1620429827366,
     "user": {
      "displayName": "Felipe Oliveira",
      "photoUrl": "https://lh3.googleusercontent.com/a-/AOh14GjO213TtE8UvJNzWX9dBwLMGlL8qyGDW1E6XdfZ=s64",
      "userId": "17712141380330331922"
     },
     "user_tz": 180
    },
    "id": "I707mZy1BxRh",
    "outputId": "28534ea6-d24e-4da1-8faf-873740510e7b"
   },
   "outputs": [
    {
     "data": {
      "text/plain": [
       "ds       0\n",
       "marge    0\n",
       "y        0\n",
       "dtype: int64"
      ]
     },
     "execution_count": 319,
     "metadata": {
      "tags": []
     },
     "output_type": "execute_result"
    }
   ],
   "source": [
    "# verificação de nulos\n",
    "df_prophet.isnull().sum()"
   ]
  },
  {
   "cell_type": "code",
   "execution_count": null,
   "metadata": {
    "colab": {
     "base_uri": "https://localhost:8080/"
    },
    "executionInfo": {
     "elapsed": 599,
     "status": "ok",
     "timestamp": 1620430144416,
     "user": {
      "displayName": "Felipe Oliveira",
      "photoUrl": "https://lh3.googleusercontent.com/a-/AOh14GjO213TtE8UvJNzWX9dBwLMGlL8qyGDW1E6XdfZ=s64",
      "userId": "17712141380330331922"
     },
     "user_tz": 180
    },
    "id": "1MhdkbKt6wdc",
    "outputId": "2cc1ee12-d60f-4f59-c2af-d976010d67dc"
   },
   "outputs": [
    {
     "name": "stderr",
     "output_type": "stream",
     "text": [
      "INFO:fbprophet:Disabling yearly seasonality. Run prophet with yearly_seasonality=True to override this.\n",
      "INFO:fbprophet:Disabling daily seasonality. Run prophet with daily_seasonality=True to override this.\n"
     ]
    },
    {
     "data": {
      "text/plain": [
       "<fbprophet.forecaster.Prophet at 0x7f4e65cabc50>"
      ]
     },
     "execution_count": 359,
     "metadata": {
      "tags": []
     },
     "output_type": "execute_result"
    }
   ],
   "source": [
    "# criação do modelo com sasonalidade diária\n",
    "model = Prophet(daily_seasonality='auto')\n",
    "model.fit(df_prophet)"
   ]
  },
  {
   "cell_type": "code",
   "execution_count": null,
   "metadata": {
    "colab": {
     "base_uri": "https://localhost:8080/",
     "height": 195
    },
    "executionInfo": {
     "elapsed": 615,
     "status": "ok",
     "timestamp": 1620430145733,
     "user": {
      "displayName": "Felipe Oliveira",
      "photoUrl": "https://lh3.googleusercontent.com/a-/AOh14GjO213TtE8UvJNzWX9dBwLMGlL8qyGDW1E6XdfZ=s64",
      "userId": "17712141380330331922"
     },
     "user_tz": 180
    },
    "id": "tMfEmgZEImX0",
    "outputId": "92682edd-ddc6-4892-8d6b-6e53d7ac9f8e"
   },
   "outputs": [
    {
     "data": {
      "text/html": [
       "<div>\n",
       "<style scoped>\n",
       "    .dataframe tbody tr th:only-of-type {\n",
       "        vertical-align: middle;\n",
       "    }\n",
       "\n",
       "    .dataframe tbody tr th {\n",
       "        vertical-align: top;\n",
       "    }\n",
       "\n",
       "    .dataframe thead th {\n",
       "        text-align: right;\n",
       "    }\n",
       "</style>\n",
       "<table border=\"1\" class=\"dataframe\">\n",
       "  <thead>\n",
       "    <tr style=\"text-align: right;\">\n",
       "      <th></th>\n",
       "      <th>ds</th>\n",
       "    </tr>\n",
       "  </thead>\n",
       "  <tbody>\n",
       "    <tr>\n",
       "      <th>391</th>\n",
       "      <td>2015-08-27</td>\n",
       "    </tr>\n",
       "    <tr>\n",
       "      <th>392</th>\n",
       "      <td>2015-08-28</td>\n",
       "    </tr>\n",
       "    <tr>\n",
       "      <th>393</th>\n",
       "      <td>2015-08-29</td>\n",
       "    </tr>\n",
       "    <tr>\n",
       "      <th>394</th>\n",
       "      <td>2015-08-30</td>\n",
       "    </tr>\n",
       "    <tr>\n",
       "      <th>395</th>\n",
       "      <td>2015-08-31</td>\n",
       "    </tr>\n",
       "  </tbody>\n",
       "</table>\n",
       "</div>"
      ],
      "text/plain": [
       "            ds\n",
       "391 2015-08-27\n",
       "392 2015-08-28\n",
       "393 2015-08-29\n",
       "394 2015-08-30\n",
       "395 2015-08-31"
      ]
     },
     "execution_count": 360,
     "metadata": {
      "tags": []
     },
     "output_type": "execute_result"
    }
   ],
   "source": [
    "# dataframe com predições\n",
    "future = model.make_future_dataframe(periods=31, freq='D')\n",
    "future.tail()"
   ]
  },
  {
   "cell_type": "code",
   "execution_count": null,
   "metadata": {
    "colab": {
     "base_uri": "https://localhost:8080/",
     "height": 195
    },
    "executionInfo": {
     "elapsed": 2767,
     "status": "ok",
     "timestamp": 1620430149062,
     "user": {
      "displayName": "Felipe Oliveira",
      "photoUrl": "https://lh3.googleusercontent.com/a-/AOh14GjO213TtE8UvJNzWX9dBwLMGlL8qyGDW1E6XdfZ=s64",
      "userId": "17712141380330331922"
     },
     "user_tz": 180
    },
    "id": "40gwWNCS2fr7",
    "outputId": "513d295a-3495-4b3e-8ce1-568b85a42a71"
   },
   "outputs": [
    {
     "data": {
      "text/html": [
       "<div>\n",
       "<style scoped>\n",
       "    .dataframe tbody tr th:only-of-type {\n",
       "        vertical-align: middle;\n",
       "    }\n",
       "\n",
       "    .dataframe tbody tr th {\n",
       "        vertical-align: top;\n",
       "    }\n",
       "\n",
       "    .dataframe thead th {\n",
       "        text-align: right;\n",
       "    }\n",
       "</style>\n",
       "<table border=\"1\" class=\"dataframe\">\n",
       "  <thead>\n",
       "    <tr style=\"text-align: right;\">\n",
       "      <th></th>\n",
       "      <th>ds</th>\n",
       "      <th>yhat</th>\n",
       "      <th>yhat_lower</th>\n",
       "      <th>yhat_upper</th>\n",
       "    </tr>\n",
       "  </thead>\n",
       "  <tbody>\n",
       "    <tr>\n",
       "      <th>391</th>\n",
       "      <td>2015-08-27</td>\n",
       "      <td>10.709013</td>\n",
       "      <td>10.320974</td>\n",
       "      <td>11.107703</td>\n",
       "    </tr>\n",
       "    <tr>\n",
       "      <th>392</th>\n",
       "      <td>2015-08-28</td>\n",
       "      <td>10.653302</td>\n",
       "      <td>10.286743</td>\n",
       "      <td>11.054332</td>\n",
       "    </tr>\n",
       "    <tr>\n",
       "      <th>393</th>\n",
       "      <td>2015-08-29</td>\n",
       "      <td>10.210128</td>\n",
       "      <td>9.817235</td>\n",
       "      <td>10.593388</td>\n",
       "    </tr>\n",
       "    <tr>\n",
       "      <th>394</th>\n",
       "      <td>2015-08-30</td>\n",
       "      <td>10.350257</td>\n",
       "      <td>9.962320</td>\n",
       "      <td>10.736158</td>\n",
       "    </tr>\n",
       "    <tr>\n",
       "      <th>395</th>\n",
       "      <td>2015-08-31</td>\n",
       "      <td>10.936041</td>\n",
       "      <td>10.574503</td>\n",
       "      <td>11.350593</td>\n",
       "    </tr>\n",
       "  </tbody>\n",
       "</table>\n",
       "</div>"
      ],
      "text/plain": [
       "            ds       yhat  yhat_lower  yhat_upper\n",
       "391 2015-08-27  10.709013   10.320974   11.107703\n",
       "392 2015-08-28  10.653302   10.286743   11.054332\n",
       "393 2015-08-29  10.210128    9.817235   10.593388\n",
       "394 2015-08-30  10.350257    9.962320   10.736158\n",
       "395 2015-08-31  10.936041   10.574503   11.350593"
      ]
     },
     "execution_count": 361,
     "metadata": {
      "tags": []
     },
     "output_type": "execute_result"
    }
   ],
   "source": [
    "# predict do modelo\n",
    "forecast = model.predict(future)\n",
    "forecast[['ds', 'yhat', 'yhat_lower', 'yhat_upper']].tail()"
   ]
  },
  {
   "cell_type": "code",
   "execution_count": null,
   "metadata": {
    "colab": {
     "base_uri": "https://localhost:8080/",
     "height": 441
    },
    "executionInfo": {
     "elapsed": 1372,
     "status": "ok",
     "timestamp": 1620430150606,
     "user": {
      "displayName": "Felipe Oliveira",
      "photoUrl": "https://lh3.googleusercontent.com/a-/AOh14GjO213TtE8UvJNzWX9dBwLMGlL8qyGDW1E6XdfZ=s64",
      "userId": "17712141380330331922"
     },
     "user_tz": 180
    },
    "id": "47i7NRus1Bjf",
    "outputId": "6f186122-fa65-4baf-8606-7b3387d0cc1d"
   },
   "outputs": [
    {
     "data": {
      "image/png": "[encoded data removed]",
      "text/plain": [
       "<Figure size 720x432 with 1 Axes>"
      ]
     },
     "metadata": {
      "tags": []
     },
     "output_type": "display_data"
    }
   ],
   "source": [
    "# visualização da série predita \n",
    "fig1 = model.plot(forecast)"
   ]
  },
  {
   "cell_type": "code",
   "execution_count": null,
   "metadata": {
    "colab": {
     "base_uri": "https://localhost:8080/",
     "height": 441
    },
    "executionInfo": {
     "elapsed": 1255,
     "status": "ok",
     "timestamp": 1620430152682,
     "user": {
      "displayName": "Felipe Oliveira",
      "photoUrl": "https://lh3.googleusercontent.com/a-/AOh14GjO213TtE8UvJNzWX9dBwLMGlL8qyGDW1E6XdfZ=s64",
      "userId": "17712141380330331922"
     },
     "user_tz": 180
    },
    "id": "9jsmvXHs1Blg",
    "outputId": "c3b31f4a-3f65-4a6d-9363-5b4e4ca75ae2"
   },
   "outputs": [
    {
     "data": {
      "image/png": "[encoded data removed]",
      "text/plain": [
       "<Figure size 648x432 with 2 Axes>"
      ]
     },
     "metadata": {
      "tags": []
     },
     "output_type": "display_data"
    }
   ],
   "source": [
    "# visualizando propriedades da série(tendência e sansozalidade semanal)\n",
    "fig2 = model.plot_components(forecast)"
   ]
  },
  {
   "cell_type": "code",
   "execution_count": null,
   "metadata": {
    "colab": {
     "base_uri": "https://localhost:8080/"
    },
    "executionInfo": {
     "elapsed": 618,
     "status": "ok",
     "timestamp": 1620429862295,
     "user": {
      "displayName": "Felipe Oliveira",
      "photoUrl": "https://lh3.googleusercontent.com/a-/AOh14GjO213TtE8UvJNzWX9dBwLMGlL8qyGDW1E6XdfZ=s64",
      "userId": "17712141380330331922"
     },
     "user_tz": 180
    },
    "id": "XzeN3S5j6_VP",
    "outputId": "ecad41b3-9d46-4524-d855-554a60695427"
   },
   "outputs": [
    {
     "data": {
      "text/plain": [
       "ds\n",
       "2014-08-01    11.582491\n",
       "2014-08-02    11.138410\n",
       "2014-08-03    11.277633\n",
       "2014-08-04    11.862511\n",
       "2014-08-05    11.750789\n",
       "                ...    \n",
       "2015-08-27    10.709013\n",
       "2015-08-28    10.653302\n",
       "2015-08-29    10.210128\n",
       "2015-08-30    10.350257\n",
       "2015-08-31    10.936041\n",
       "Name: yhat, Length: 396, dtype: float64"
      ]
     },
     "execution_count": 328,
     "metadata": {
      "tags": []
     },
     "output_type": "execute_result"
    }
   ],
   "source": [
    "# selecionando y predito\n",
    "forecast.set_index('ds')['yhat']"
   ]
  },
  {
   "cell_type": "code",
   "execution_count": null,
   "metadata": {
    "id": "Yd_x8OYN1BoV"
   },
   "outputs": [],
   "source": [
    "# yhat\n",
    "metric_df = forecast.set_index('ds')[['yhat']].join(df_prophet.set_index('ds').y).reset_index()"
   ]
  },
  {
   "cell_type": "code",
   "execution_count": null,
   "metadata": {
    "colab": {
     "base_uri": "https://localhost:8080/",
     "height": 402
    },
    "executionInfo": {
     "elapsed": 664,
     "status": "ok",
     "timestamp": 1620430174020,
     "user": {
      "displayName": "Felipe Oliveira",
      "photoUrl": "https://lh3.googleusercontent.com/a-/AOh14GjO213TtE8UvJNzWX9dBwLMGlL8qyGDW1E6XdfZ=s64",
      "userId": "17712141380330331922"
     },
     "user_tz": 180
    },
    "id": "EIIuhl4n1Bra",
    "outputId": "9c61d3cb-e24d-4060-fd4d-cc3caf3f31fb"
   },
   "outputs": [
    {
     "data": {
      "text/html": [
       "<div>\n",
       "<style scoped>\n",
       "    .dataframe tbody tr th:only-of-type {\n",
       "        vertical-align: middle;\n",
       "    }\n",
       "\n",
       "    .dataframe tbody tr th {\n",
       "        vertical-align: top;\n",
       "    }\n",
       "\n",
       "    .dataframe thead th {\n",
       "        text-align: right;\n",
       "    }\n",
       "</style>\n",
       "<table border=\"1\" class=\"dataframe\">\n",
       "  <thead>\n",
       "    <tr style=\"text-align: right;\">\n",
       "      <th></th>\n",
       "      <th>ds</th>\n",
       "      <th>yhat</th>\n",
       "      <th>y</th>\n",
       "    </tr>\n",
       "  </thead>\n",
       "  <tbody>\n",
       "    <tr>\n",
       "      <th>0</th>\n",
       "      <td>2014-08-01</td>\n",
       "      <td>11.582491</td>\n",
       "      <td>11.608622</td>\n",
       "    </tr>\n",
       "    <tr>\n",
       "      <th>1</th>\n",
       "      <td>2014-08-02</td>\n",
       "      <td>11.138410</td>\n",
       "      <td>10.974683</td>\n",
       "    </tr>\n",
       "    <tr>\n",
       "      <th>2</th>\n",
       "      <td>2014-08-03</td>\n",
       "      <td>11.277633</td>\n",
       "      <td>11.076517</td>\n",
       "    </tr>\n",
       "    <tr>\n",
       "      <th>3</th>\n",
       "      <td>2014-08-04</td>\n",
       "      <td>11.862511</td>\n",
       "      <td>11.852374</td>\n",
       "    </tr>\n",
       "    <tr>\n",
       "      <th>4</th>\n",
       "      <td>2014-08-05</td>\n",
       "      <td>11.750789</td>\n",
       "      <td>11.916390</td>\n",
       "    </tr>\n",
       "    <tr>\n",
       "      <th>...</th>\n",
       "      <td>...</td>\n",
       "      <td>...</td>\n",
       "      <td>...</td>\n",
       "    </tr>\n",
       "    <tr>\n",
       "      <th>391</th>\n",
       "      <td>2015-08-27</td>\n",
       "      <td>10.709013</td>\n",
       "      <td>NaN</td>\n",
       "    </tr>\n",
       "    <tr>\n",
       "      <th>392</th>\n",
       "      <td>2015-08-28</td>\n",
       "      <td>10.653302</td>\n",
       "      <td>NaN</td>\n",
       "    </tr>\n",
       "    <tr>\n",
       "      <th>393</th>\n",
       "      <td>2015-08-29</td>\n",
       "      <td>10.210128</td>\n",
       "      <td>NaN</td>\n",
       "    </tr>\n",
       "    <tr>\n",
       "      <th>394</th>\n",
       "      <td>2015-08-30</td>\n",
       "      <td>10.350257</td>\n",
       "      <td>NaN</td>\n",
       "    </tr>\n",
       "    <tr>\n",
       "      <th>395</th>\n",
       "      <td>2015-08-31</td>\n",
       "      <td>10.936041</td>\n",
       "      <td>NaN</td>\n",
       "    </tr>\n",
       "  </tbody>\n",
       "</table>\n",
       "<p>396 rows × 3 columns</p>\n",
       "</div>"
      ],
      "text/plain": [
       "            ds       yhat          y\n",
       "0   2014-08-01  11.582491  11.608622\n",
       "1   2014-08-02  11.138410  10.974683\n",
       "2   2014-08-03  11.277633  11.076517\n",
       "3   2014-08-04  11.862511  11.852374\n",
       "4   2014-08-05  11.750789  11.916390\n",
       "..         ...        ...        ...\n",
       "391 2015-08-27  10.709013        NaN\n",
       "392 2015-08-28  10.653302        NaN\n",
       "393 2015-08-29  10.210128        NaN\n",
       "394 2015-08-30  10.350257        NaN\n",
       "395 2015-08-31  10.936041        NaN\n",
       "\n",
       "[396 rows x 3 columns]"
      ]
     },
     "execution_count": 367,
     "metadata": {
      "tags": []
     },
     "output_type": "execute_result"
    }
   ],
   "source": [
    "metric_df"
   ]
  },
  {
   "cell_type": "code",
   "execution_count": null,
   "metadata": {
    "id": "dY0OZWun1Bt5"
   },
   "outputs": [],
   "source": [
    "metric_df.dropna(inplace=True)"
   ]
  },
  {
   "cell_type": "code",
   "execution_count": null,
   "metadata": {
    "colab": {
     "base_uri": "https://localhost:8080/"
    },
    "executionInfo": {
     "elapsed": 725,
     "status": "ok",
     "timestamp": 1620430176088,
     "user": {
      "displayName": "Felipe Oliveira",
      "photoUrl": "https://lh3.googleusercontent.com/a-/AOh14GjO213TtE8UvJNzWX9dBwLMGlL8qyGDW1E6XdfZ=s64",
      "userId": "17712141380330331922"
     },
     "user_tz": 180
    },
    "id": "IgURBi1U7e4g",
    "outputId": "2aee8eeb-5ae9-4120-bff1-1cb2e6448290"
   },
   "outputs": [
    {
     "data": {
      "text/plain": [
       "0.5936175841236107"
      ]
     },
     "execution_count": 369,
     "metadata": {
      "tags": []
     },
     "output_type": "execute_result"
    }
   ],
   "source": [
    "# r2 do modelo\n",
    "r2_score(metric_df.y, metric_df.yhat)"
   ]
  },
  {
   "cell_type": "code",
   "execution_count": null,
   "metadata": {
    "colab": {
     "base_uri": "https://localhost:8080/"
    },
    "executionInfo": {
     "elapsed": 730,
     "status": "ok",
     "timestamp": 1620430176659,
     "user": {
      "displayName": "Felipe Oliveira",
      "photoUrl": "https://lh3.googleusercontent.com/a-/AOh14GjO213TtE8UvJNzWX9dBwLMGlL8qyGDW1E6XdfZ=s64",
      "userId": "17712141380330331922"
     },
     "user_tz": 180
    },
    "id": "DXccK9P07hf8",
    "outputId": "0a46086f-c31d-4d8c-e96a-40ba8c09e751"
   },
   "outputs": [
    {
     "data": {
      "text/plain": [
       "0.09121280634962303"
      ]
     },
     "execution_count": 370,
     "metadata": {
      "tags": []
     },
     "output_type": "execute_result"
    }
   ],
   "source": [
    "# MSE do modelo\n",
    "mean_squared_error(metric_df.y, metric_df.yhat)"
   ]
  },
  {
   "cell_type": "code",
   "execution_count": null,
   "metadata": {
    "colab": {
     "base_uri": "https://localhost:8080/"
    },
    "executionInfo": {
     "elapsed": 473,
     "status": "ok",
     "timestamp": 1620430177028,
     "user": {
      "displayName": "Felipe Oliveira",
      "photoUrl": "https://lh3.googleusercontent.com/a-/AOh14GjO213TtE8UvJNzWX9dBwLMGlL8qyGDW1E6XdfZ=s64",
      "userId": "17712141380330331922"
     },
     "user_tz": 180
    },
    "id": "Qv3y55Fy7jTt",
    "outputId": "344bbb22-b01d-42cd-f5dc-41f393ad8019"
   },
   "outputs": [
    {
     "data": {
      "text/plain": [
       "0.3020145796971117"
      ]
     },
     "execution_count": 371,
     "metadata": {
      "tags": []
     },
     "output_type": "execute_result"
    }
   ],
   "source": [
    "# RMSE do modelo\n",
    "np.sqrt(mean_squared_error(metric_df.y, metric_df.yhat))"
   ]
  },
  {
   "cell_type": "code",
   "execution_count": null,
   "metadata": {
    "id": "uI3FkAXO7xew"
   },
   "outputs": [],
   "source": [
    "# salvando o modelo em pickle\n",
    "filename = 'forecast_test.pkl'\n",
    "pickle.dump(model, open(filename, 'wb'))"
   ]
  },
  {
   "cell_type": "code",
   "execution_count": null,
   "metadata": {
    "colab": {
     "base_uri": "https://localhost:8080/"
    },
    "executionInfo": {
     "elapsed": 677,
     "status": "ok",
     "timestamp": 1620430221161,
     "user": {
      "displayName": "Felipe Oliveira",
      "photoUrl": "https://lh3.googleusercontent.com/a-/AOh14GjO213TtE8UvJNzWX9dBwLMGlL8qyGDW1E6XdfZ=s64",
      "userId": "17712141380330331922"
     },
     "user_tz": 180
    },
    "id": "ih65wRSg8X7B",
    "outputId": "a87b2724-b42f-409b-884f-66bea18104e6"
   },
   "outputs": [
    {
     "data": {
      "text/plain": [
       "396"
      ]
     },
     "execution_count": 376,
     "metadata": {
      "tags": []
     },
     "output_type": "execute_result"
    }
   ],
   "source": [
    "len(forecast['yhat'])"
   ]
  },
  {
   "cell_type": "code",
   "execution_count": null,
   "metadata": {
    "colab": {
     "base_uri": "https://localhost:8080/",
     "height": 299
    },
    "executionInfo": {
     "elapsed": 789,
     "status": "ok",
     "timestamp": 1620430221868,
     "user": {
      "displayName": "Felipe Oliveira",
      "photoUrl": "https://lh3.googleusercontent.com/a-/AOh14GjO213TtE8UvJNzWX9dBwLMGlL8qyGDW1E6XdfZ=s64",
      "userId": "17712141380330331922"
     },
     "user_tz": 180
    },
    "id": "-nm1RiY29Ldp",
    "outputId": "92aef46f-b5cd-4b82-918c-63a2e9093a5c"
   },
   "outputs": [
    {
     "data": {
      "text/html": [
       "<div>\n",
       "<style scoped>\n",
       "    .dataframe tbody tr th:only-of-type {\n",
       "        vertical-align: middle;\n",
       "    }\n",
       "\n",
       "    .dataframe tbody tr th {\n",
       "        vertical-align: top;\n",
       "    }\n",
       "\n",
       "    .dataframe thead th {\n",
       "        text-align: right;\n",
       "    }\n",
       "</style>\n",
       "<table border=\"1\" class=\"dataframe\">\n",
       "  <thead>\n",
       "    <tr style=\"text-align: right;\">\n",
       "      <th></th>\n",
       "      <th>ds</th>\n",
       "      <th>trend</th>\n",
       "      <th>yhat_lower</th>\n",
       "      <th>yhat_upper</th>\n",
       "      <th>trend_lower</th>\n",
       "      <th>trend_upper</th>\n",
       "      <th>additive_terms</th>\n",
       "      <th>additive_terms_lower</th>\n",
       "      <th>additive_terms_upper</th>\n",
       "      <th>weekly</th>\n",
       "      <th>weekly_lower</th>\n",
       "      <th>weekly_upper</th>\n",
       "      <th>multiplicative_terms</th>\n",
       "      <th>multiplicative_terms_lower</th>\n",
       "      <th>multiplicative_terms_upper</th>\n",
       "      <th>yhat</th>\n",
       "    </tr>\n",
       "  </thead>\n",
       "  <tbody>\n",
       "    <tr>\n",
       "      <th>0</th>\n",
       "      <td>2014-08-01</td>\n",
       "      <td>11.577881</td>\n",
       "      <td>11.176446</td>\n",
       "      <td>11.962332</td>\n",
       "      <td>11.577881</td>\n",
       "      <td>11.577881</td>\n",
       "      <td>0.004610</td>\n",
       "      <td>0.004610</td>\n",
       "      <td>0.004610</td>\n",
       "      <td>0.004610</td>\n",
       "      <td>0.004610</td>\n",
       "      <td>0.004610</td>\n",
       "      <td>0.0</td>\n",
       "      <td>0.0</td>\n",
       "      <td>0.0</td>\n",
       "      <td>11.582491</td>\n",
       "    </tr>\n",
       "    <tr>\n",
       "      <th>1</th>\n",
       "      <td>2014-08-02</td>\n",
       "      <td>11.575105</td>\n",
       "      <td>10.738128</td>\n",
       "      <td>11.516182</td>\n",
       "      <td>11.575105</td>\n",
       "      <td>11.575105</td>\n",
       "      <td>-0.436695</td>\n",
       "      <td>-0.436695</td>\n",
       "      <td>-0.436695</td>\n",
       "      <td>-0.436695</td>\n",
       "      <td>-0.436695</td>\n",
       "      <td>-0.436695</td>\n",
       "      <td>0.0</td>\n",
       "      <td>0.0</td>\n",
       "      <td>0.0</td>\n",
       "      <td>11.138410</td>\n",
       "    </tr>\n",
       "    <tr>\n",
       "      <th>2</th>\n",
       "      <td>2014-08-03</td>\n",
       "      <td>11.572329</td>\n",
       "      <td>10.893594</td>\n",
       "      <td>11.643819</td>\n",
       "      <td>11.572329</td>\n",
       "      <td>11.572329</td>\n",
       "      <td>-0.294696</td>\n",
       "      <td>-0.294696</td>\n",
       "      <td>-0.294696</td>\n",
       "      <td>-0.294696</td>\n",
       "      <td>-0.294696</td>\n",
       "      <td>-0.294696</td>\n",
       "      <td>0.0</td>\n",
       "      <td>0.0</td>\n",
       "      <td>0.0</td>\n",
       "      <td>11.277633</td>\n",
       "    </tr>\n",
       "    <tr>\n",
       "      <th>3</th>\n",
       "      <td>2014-08-04</td>\n",
       "      <td>11.569553</td>\n",
       "      <td>11.475000</td>\n",
       "      <td>12.249410</td>\n",
       "      <td>11.569553</td>\n",
       "      <td>11.569553</td>\n",
       "      <td>0.292958</td>\n",
       "      <td>0.292958</td>\n",
       "      <td>0.292958</td>\n",
       "      <td>0.292958</td>\n",
       "      <td>0.292958</td>\n",
       "      <td>0.292958</td>\n",
       "      <td>0.0</td>\n",
       "      <td>0.0</td>\n",
       "      <td>0.0</td>\n",
       "      <td>11.862511</td>\n",
       "    </tr>\n",
       "    <tr>\n",
       "      <th>4</th>\n",
       "      <td>2014-08-05</td>\n",
       "      <td>11.566777</td>\n",
       "      <td>11.373905</td>\n",
       "      <td>12.152258</td>\n",
       "      <td>11.566777</td>\n",
       "      <td>11.566777</td>\n",
       "      <td>0.184012</td>\n",
       "      <td>0.184012</td>\n",
       "      <td>0.184012</td>\n",
       "      <td>0.184012</td>\n",
       "      <td>0.184012</td>\n",
       "      <td>0.184012</td>\n",
       "      <td>0.0</td>\n",
       "      <td>0.0</td>\n",
       "      <td>0.0</td>\n",
       "      <td>11.750789</td>\n",
       "    </tr>\n",
       "  </tbody>\n",
       "</table>\n",
       "</div>"
      ],
      "text/plain": [
       "          ds      trend  ...  multiplicative_terms_upper       yhat\n",
       "0 2014-08-01  11.577881  ...                         0.0  11.582491\n",
       "1 2014-08-02  11.575105  ...                         0.0  11.138410\n",
       "2 2014-08-03  11.572329  ...                         0.0  11.277633\n",
       "3 2014-08-04  11.569553  ...                         0.0  11.862511\n",
       "4 2014-08-05  11.566777  ...                         0.0  11.750789\n",
       "\n",
       "[5 rows x 16 columns]"
      ]
     },
     "execution_count": 377,
     "metadata": {
      "tags": []
     },
     "output_type": "execute_result"
    }
   ],
   "source": [
    "# dataframe com medidas da série\n",
    "forecast.head()"
   ]
  },
  {
   "cell_type": "code",
   "execution_count": null,
   "metadata": {
    "colab": {
     "base_uri": "https://localhost:8080/"
    },
    "executionInfo": {
     "elapsed": 553,
     "status": "ok",
     "timestamp": 1620426732319,
     "user": {
      "displayName": "Felipe Oliveira",
      "photoUrl": "https://lh3.googleusercontent.com/a-/AOh14GjO213TtE8UvJNzWX9dBwLMGlL8qyGDW1E6XdfZ=s64",
      "userId": "17712141380330331922"
     },
     "user_tz": 180
    },
    "id": "jLuwV7Tx8wn4",
    "outputId": "f07c27bf-b991-4533-aa31-bf65276733c8"
   },
   "outputs": [
    {
     "data": {
      "text/plain": [
       "31"
      ]
     },
     "execution_count": 148,
     "metadata": {
      "tags": []
     },
     "output_type": "execute_result"
    }
   ],
   "source": [
    "len(forecast[365:])"
   ]
  },
  {
   "cell_type": "code",
   "execution_count": null,
   "metadata": {
    "colab": {
     "base_uri": "https://localhost:8080/"
    },
    "executionInfo": {
     "elapsed": 594,
     "status": "ok",
     "timestamp": 1620429223061,
     "user": {
      "displayName": "Felipe Oliveira",
      "photoUrl": "https://lh3.googleusercontent.com/a-/AOh14GjO213TtE8UvJNzWX9dBwLMGlL8qyGDW1E6XdfZ=s64",
      "userId": "17712141380330331922"
     },
     "user_tz": 180
    },
    "id": "PF7Z_xJICN41",
    "outputId": "3fae3375-104b-4125-d14f-d2e6fbbf04ae"
   },
   "outputs": [
    {
     "data": {
      "text/plain": [
       "365    10.262475\n",
       "366    10.402604\n",
       "367    10.988389\n",
       "368    10.877573\n",
       "369    10.883050\n",
       "370    10.748274\n",
       "371    10.692562\n",
       "372    10.249388\n",
       "373    10.389518\n",
       "374    10.975302\n",
       "375    10.864487\n",
       "376    10.869964\n",
       "377    10.735187\n",
       "378    10.679475\n",
       "379    10.236301\n",
       "380    10.376431\n",
       "381    10.962215\n",
       "382    10.851400\n",
       "383    10.856877\n",
       "384    10.722100\n",
       "385    10.666388\n",
       "386    10.223214\n",
       "387    10.363344\n",
       "388    10.949128\n",
       "389    10.838313\n",
       "390    10.843790\n",
       "391    10.709013\n",
       "392    10.653302\n",
       "393    10.210128\n",
       "394    10.350257\n",
       "395    10.936041\n",
       "Name: yhat, dtype: float64"
      ]
     },
     "execution_count": 265,
     "metadata": {
      "tags": []
     },
     "output_type": "execute_result"
    }
   ],
   "source": [
    "forecast['yhat'][365:]"
   ]
  },
  {
   "cell_type": "code",
   "execution_count": null,
   "metadata": {
    "id": "1o8Zo5r-8C_A"
   },
   "outputs": [],
   "source": [
    "# criando lista das predições\n",
    "lista_preditos = list(forecast[365:]['yhat'])\n",
    "lista_id = [i for i in range(1, 32)]"
   ]
  },
  {
   "cell_type": "code",
   "execution_count": null,
   "metadata": {
    "colab": {
     "base_uri": "https://localhost:8080/"
    },
    "executionInfo": {
     "elapsed": 557,
     "status": "ok",
     "timestamp": 1620429384577,
     "user": {
      "displayName": "Felipe Oliveira",
      "photoUrl": "https://lh3.googleusercontent.com/a-/AOh14GjO213TtE8UvJNzWX9dBwLMGlL8qyGDW1E6XdfZ=s64",
      "userId": "17712141380330331922"
     },
     "user_tz": 180
    },
    "id": "80MnI1Si_oii",
    "outputId": "5d85fbc7-fd34-40da-f81e-f2adc2e1e6f4"
   },
   "outputs": [
    {
     "data": {
      "text/plain": [
       "31"
      ]
     },
     "execution_count": 268,
     "metadata": {
      "tags": []
     },
     "output_type": "execute_result"
    }
   ],
   "source": [
    "len(lista_preditos)"
   ]
  },
  {
   "cell_type": "code",
   "execution_count": null,
   "metadata": {
    "id": "dYc3di3E9iEW"
   },
   "outputs": [],
   "source": [
    "# dataframe de IDs e previsões\n",
    "df_predicao = pd.DataFrame(columns={'id':lista_id , 'predicao':lista_preditos})"
   ]
  },
  {
   "cell_type": "code",
   "execution_count": null,
   "metadata": {
    "id": "pGfUW4V9-17o"
   },
   "outputs": [],
   "source": [
    "# criação do dataframe\n",
    "df_predicao = pd.DataFrame()\n",
    "df_predicao['id'] = df['X'][0:31]\n",
    "df_predicao['predicao'] = lista_preditos"
   ]
  },
  {
   "cell_type": "code",
   "execution_count": null,
   "metadata": {
    "colab": {
     "base_uri": "https://localhost:8080/",
     "height": 225
    },
    "executionInfo": {
     "elapsed": 449,
     "status": "ok",
     "timestamp": 1620429386908,
     "user": {
      "displayName": "Felipe Oliveira",
      "photoUrl": "https://lh3.googleusercontent.com/a-/AOh14GjO213TtE8UvJNzWX9dBwLMGlL8qyGDW1E6XdfZ=s64",
      "userId": "17712141380330331922"
     },
     "user_tz": 180
    },
    "id": "qECutBSo_1mB",
    "outputId": "6da894d9-922c-487c-9205-4885f80269c0"
   },
   "outputs": [
    {
     "data": {
      "text/html": [
       "<div>\n",
       "<style scoped>\n",
       "    .dataframe tbody tr th:only-of-type {\n",
       "        vertical-align: middle;\n",
       "    }\n",
       "\n",
       "    .dataframe tbody tr th {\n",
       "        vertical-align: top;\n",
       "    }\n",
       "\n",
       "    .dataframe thead th {\n",
       "        text-align: right;\n",
       "    }\n",
       "</style>\n",
       "<table border=\"1\" class=\"dataframe\">\n",
       "  <thead>\n",
       "    <tr style=\"text-align: right;\">\n",
       "      <th></th>\n",
       "      <th>id</th>\n",
       "      <th>predicao</th>\n",
       "    </tr>\n",
       "    <tr>\n",
       "      <th>date</th>\n",
       "      <th></th>\n",
       "      <th></th>\n",
       "    </tr>\n",
       "  </thead>\n",
       "  <tbody>\n",
       "    <tr>\n",
       "      <th>2014-08-01</th>\n",
       "      <td>1</td>\n",
       "      <td>10.262475</td>\n",
       "    </tr>\n",
       "    <tr>\n",
       "      <th>2014-08-02</th>\n",
       "      <td>2</td>\n",
       "      <td>10.402604</td>\n",
       "    </tr>\n",
       "    <tr>\n",
       "      <th>2014-08-03</th>\n",
       "      <td>3</td>\n",
       "      <td>10.988389</td>\n",
       "    </tr>\n",
       "    <tr>\n",
       "      <th>2014-08-04</th>\n",
       "      <td>4</td>\n",
       "      <td>10.877573</td>\n",
       "    </tr>\n",
       "    <tr>\n",
       "      <th>2014-08-05</th>\n",
       "      <td>5</td>\n",
       "      <td>10.883050</td>\n",
       "    </tr>\n",
       "  </tbody>\n",
       "</table>\n",
       "</div>"
      ],
      "text/plain": [
       "            id   predicao\n",
       "date                     \n",
       "2014-08-01   1  10.262475\n",
       "2014-08-02   2  10.402604\n",
       "2014-08-03   3  10.988389\n",
       "2014-08-04   4  10.877573\n",
       "2014-08-05   5  10.883050"
      ]
     },
     "execution_count": 271,
     "metadata": {
      "tags": []
     },
     "output_type": "execute_result"
    }
   ],
   "source": [
    "df_predicao.head()"
   ]
  },
  {
   "cell_type": "code",
   "execution_count": null,
   "metadata": {
    "colab": {
     "base_uri": "https://localhost:8080/"
    },
    "executionInfo": {
     "elapsed": 587,
     "status": "ok",
     "timestamp": 1620429389056,
     "user": {
      "displayName": "Felipe Oliveira",
      "photoUrl": "https://lh3.googleusercontent.com/a-/AOh14GjO213TtE8UvJNzWX9dBwLMGlL8qyGDW1E6XdfZ=s64",
      "userId": "17712141380330331922"
     },
     "user_tz": 180
    },
    "id": "r3xec1py_dam",
    "outputId": "ade71420-9172-426b-bd8d-23855e0a760e"
   },
   "outputs": [
    {
     "data": {
      "text/plain": [
       "31"
      ]
     },
     "execution_count": 272,
     "metadata": {
      "tags": []
     },
     "output_type": "execute_result"
    }
   ],
   "source": [
    "len(lista_preditos)"
   ]
  },
  {
   "cell_type": "code",
   "execution_count": null,
   "metadata": {
    "colab": {
     "base_uri": "https://localhost:8080/"
    },
    "executionInfo": {
     "elapsed": 451,
     "status": "ok",
     "timestamp": 1620429389401,
     "user": {
      "displayName": "Felipe Oliveira",
      "photoUrl": "https://lh3.googleusercontent.com/a-/AOh14GjO213TtE8UvJNzWX9dBwLMGlL8qyGDW1E6XdfZ=s64",
      "userId": "17712141380330331922"
     },
     "user_tz": 180
    },
    "id": "x4hx4HwhCdGt",
    "outputId": "d313a7dc-47fa-41aa-8931-5905d6605051"
   },
   "outputs": [
    {
     "data": {
      "text/plain": [
       "id            int64\n",
       "predicao    float64\n",
       "dtype: object"
      ]
     },
     "execution_count": 273,
     "metadata": {
      "tags": []
     },
     "output_type": "execute_result"
    }
   ],
   "source": [
    "df_predicao.dtypes"
   ]
  },
  {
   "cell_type": "code",
   "execution_count": null,
   "metadata": {
    "id": "3QjWNa0t-lGD"
   },
   "outputs": [],
   "source": [
    "# exportando CSV com predições \n",
    "df_predicao.to_csv('predicoes.csv', sep=';')"
   ]
  },
  {
   "cell_type": "markdown",
   "metadata": {
    "id": "1hvgrSBkGZJc"
   },
   "source": [
    "<br>\n",
    "<hr>"
   ]
  }
 ],
 "metadata": {
  "colab": {
   "collapsed_sections": [],
   "name": "forecast.ipynb",
   "provenance": [],
   "toc_visible": true
  },
  "kernelspec": {
   "display_name": "Python 3",
   "language": "python",
   "name": "python3"
  },
  "language_info": {
   "codemirror_mode": {
    "name": "ipython",
    "version": 3
   },
   "file_extension": ".py",
   "mimetype": "text/x-python",
   "name": "python",
   "nbconvert_exporter": "python",
   "pygments_lexer": "ipython3",
   "version": "3.8.5"
  }
 },
 "nbformat": 4,
 "nbformat_minor": 1
}
